{
 "cells": [
  {
   "cell_type": "code",
   "execution_count": 1,
   "id": "9db64bee-a26b-4ad1-a82b-ba57f5ba211f",
   "metadata": {},
   "outputs": [],
   "source": [
    "import re\n",
    "import nltk\n",
    "from nltk.corpus import stopwords\n",
    "import string\n",
    "import pandas as pd\n",
    "from sklearn.model_selection import train_test_split\n",
    "from sklearn.linear_model import LogisticRegression\n",
    "from sklearn.metrics import classification_report,multilabel_confusion_matrix,accuracy_score,recall_score\n",
    "from scipy.stats import f_oneway\n",
    "from nltk.probability import FreqDist\n",
    "import contractions\n",
    "import spacy\n",
    "import matplotlib.pyplot as plt\n",
    "from vaderSentiment.vaderSentiment import SentimentIntensityAnalyzer\n",
    "import operator\n",
    "import numpy as np\n",
    "from sklearn.linear_model import LogisticRegression\n",
    "import seaborn as sns"
   ]
  },
  {
   "cell_type": "code",
   "execution_count": 2,
   "id": "9855289c-2114-4f34-976a-cc25f3547334",
   "metadata": {},
   "outputs": [
    {
     "data": {
      "text/html": [
       "<div>\n",
       "<style scoped>\n",
       "    .dataframe tbody tr th:only-of-type {\n",
       "        vertical-align: middle;\n",
       "    }\n",
       "\n",
       "    .dataframe tbody tr th {\n",
       "        vertical-align: top;\n",
       "    }\n",
       "\n",
       "    .dataframe thead th {\n",
       "        text-align: right;\n",
       "    }\n",
       "</style>\n",
       "<table border=\"1\" class=\"dataframe\">\n",
       "  <thead>\n",
       "    <tr style=\"text-align: right;\">\n",
       "      <th></th>\n",
       "      <th>Sentence</th>\n",
       "      <th>Sentiment</th>\n",
       "    </tr>\n",
       "  </thead>\n",
       "  <tbody>\n",
       "    <tr>\n",
       "      <th>0</th>\n",
       "      <td>The GeoSolutions technology will leverage Bene...</td>\n",
       "      <td>positive</td>\n",
       "    </tr>\n",
       "    <tr>\n",
       "      <th>1</th>\n",
       "      <td>$ESI on lows, down $1.50 to $2.50 BK a real po...</td>\n",
       "      <td>negative</td>\n",
       "    </tr>\n",
       "    <tr>\n",
       "      <th>2</th>\n",
       "      <td>For the last quarter of 2010 , Componenta 's n...</td>\n",
       "      <td>positive</td>\n",
       "    </tr>\n",
       "    <tr>\n",
       "      <th>3</th>\n",
       "      <td>According to the Finnish-Russian Chamber of Co...</td>\n",
       "      <td>neutral</td>\n",
       "    </tr>\n",
       "    <tr>\n",
       "      <th>4</th>\n",
       "      <td>The Swedish buyout firm has sold its remaining...</td>\n",
       "      <td>neutral</td>\n",
       "    </tr>\n",
       "  </tbody>\n",
       "</table>\n",
       "</div>"
      ],
      "text/plain": [
       "                                            Sentence Sentiment\n",
       "0  The GeoSolutions technology will leverage Bene...  positive\n",
       "1  $ESI on lows, down $1.50 to $2.50 BK a real po...  negative\n",
       "2  For the last quarter of 2010 , Componenta 's n...  positive\n",
       "3  According to the Finnish-Russian Chamber of Co...   neutral\n",
       "4  The Swedish buyout firm has sold its remaining...   neutral"
      ]
     },
     "execution_count": 2,
     "metadata": {},
     "output_type": "execute_result"
    }
   ],
   "source": [
    "# Fonte de dados https://www.kaggle.com/datasets/sbhatti/financial-sentiment-analysis\n",
    "df = pd.read_csv(r'trab\\data.csv',encoding='utf-8')\n",
    "df.head()"
   ]
  },
  {
   "cell_type": "code",
   "execution_count": 3,
   "id": "8151851d-296e-4457-8c2b-c40b6eab0e54",
   "metadata": {},
   "outputs": [
    {
     "name": "stdout",
     "output_type": "stream",
     "text": [
      "<class 'pandas.core.frame.DataFrame'>\n",
      "RangeIndex: 5842 entries, 0 to 5841\n",
      "Data columns (total 2 columns):\n",
      " #   Column     Non-Null Count  Dtype \n",
      "---  ------     --------------  ----- \n",
      " 0   Sentence   5842 non-null   object\n",
      " 1   Sentiment  5842 non-null   object\n",
      "dtypes: object(2)\n",
      "memory usage: 91.4+ KB\n"
     ]
    }
   ],
   "source": [
    "df.info()"
   ]
  },
  {
   "cell_type": "markdown",
   "id": "d0235631-cfec-44b7-b481-7717e3f70c46",
   "metadata": {},
   "source": [
    "Não há dados nulos"
   ]
  },
  {
   "cell_type": "markdown",
   "id": "b9e6e5f5-297b-4acc-9e0d-544500d323ba",
   "metadata": {},
   "source": [
    "Pre_processamento para análise exploratória\n"
   ]
  },
  {
   "cell_type": "code",
   "execution_count": 23,
   "id": "8134e7d4-75a3-4906-a554-45965313e4c2",
   "metadata": {},
   "outputs": [],
   "source": [
    "def sub_abrev (frase):\n",
    "    sub_dict={'mn':'million','mln':'million','co':'company','pct':'percentage',\n",
    "         'eps':'earnings per share','fb':'Facebook','hod':'high of day',\n",
    "         'bln':'billion','bn':'billion'}\n",
    "    pattern = re.compile(r'\\bmn\\b|\\bmln\\b|\\bco\\b|\\bpct\\b|\\beps\\b|\\bfb\\b|\\bhod\\b|\\bbln\\b|\\bbn\\b')\n",
    "    nova_frase =re.sub(pattern,lambda x:sub_dict.get(x.group()) ,frase)\n",
    "    return nova_frase\n",
    "\n",
    "def pre_processamento(frase):  \n",
    "    \n",
    "    #Cria tokens\n",
    "    token_lista=re.findall(r\"\\w+(?:'\\w+)?|[^\\w\\s]\",frase)\n",
    "    token_lista = [token.lower() for token in token_lista]\n",
    "    #remove stopwords e pontuacao\n",
    "    stopw = stopwords.words('english')\n",
    "    pontuacao = [pontuacao for pontuacao in string.punctuation]\n",
    "    lst_rmv = stopw + pontuacao \n",
    "    token_lista=[token for token in token_lista if token not in lst_rmv]\n",
    "    #remove numeros\n",
    "    token_lista=[token for token in token_lista if not token.isdigit()]\n",
    "    #remove termos com apenas uma letra\n",
    "    token_lista=[token for token in token_lista if len(token)>1]\n",
    "    return token_lista \n",
    "\n",
    "df['Sentence']=df['Sentence'].apply(sub_abrev)\n",
    "df['processado'] =df['Sentence'].apply(pre_processamento)\n",
    "\n",
    "#bag of words para identificar palavras mais comuns\n",
    "all_pos_pp=[token for lista in df.loc[df.Sentiment=='positive']['processado'] for token in lista]\n",
    "all_neg_pp=[token for lista in df.loc[df.Sentiment=='negative']['processado'] for token in lista]\n",
    "all_neut_pp=[token for lista in df.loc[df.Sentiment=='neutral']['processado'] for token in lista]\n",
    "\n",
    "#Junção das sentenças para reconhecimeto de entidades\n",
    "all_pos='. '.join(df.loc[df.Sentiment=='positive']['Sentence'])\n",
    "all_neg='. '.join(df.loc[df.Sentiment=='negative']['Sentence'])\n",
    "all_neut='. '.join(df.loc[df.Sentiment=='neutral']['Sentence'])\n",
    "\n",
    "\n",
    "df['tamanho']=df['Sentence'].apply(len)\n",
    "df['n_tokens']=df['processado'].apply(len)"
   ]
  },
  {
   "cell_type": "markdown",
   "id": "967c5b2f-8679-4c5c-8d8d-d4c29443eec3",
   "metadata": {},
   "source": [
    "# Análise exploratória"
   ]
  },
  {
   "cell_type": "markdown",
   "id": "777bf8a5-73c9-400a-8b88-f5d4301bf92b",
   "metadata": {},
   "source": [
    "Tamanho"
   ]
  },
  {
   "cell_type": "code",
   "execution_count": 5,
   "id": "59967556-b64c-490c-93d5-fbc05e7db6e9",
   "metadata": {},
   "outputs": [
    {
     "data": {
      "text/html": [
       "<div>\n",
       "<style scoped>\n",
       "    .dataframe tbody tr th:only-of-type {\n",
       "        vertical-align: middle;\n",
       "    }\n",
       "\n",
       "    .dataframe tbody tr th {\n",
       "        vertical-align: top;\n",
       "    }\n",
       "\n",
       "    .dataframe thead th {\n",
       "        text-align: right;\n",
       "    }\n",
       "</style>\n",
       "<table border=\"1\" class=\"dataframe\">\n",
       "  <thead>\n",
       "    <tr style=\"text-align: right;\">\n",
       "      <th></th>\n",
       "      <th>count</th>\n",
       "      <th>mean</th>\n",
       "      <th>std</th>\n",
       "      <th>min</th>\n",
       "      <th>25%</th>\n",
       "      <th>50%</th>\n",
       "      <th>75%</th>\n",
       "      <th>max</th>\n",
       "    </tr>\n",
       "    <tr>\n",
       "      <th>Sentiment</th>\n",
       "      <th></th>\n",
       "      <th></th>\n",
       "      <th></th>\n",
       "      <th></th>\n",
       "      <th></th>\n",
       "      <th></th>\n",
       "      <th></th>\n",
       "      <th></th>\n",
       "    </tr>\n",
       "  </thead>\n",
       "  <tbody>\n",
       "    <tr>\n",
       "      <th>negative</th>\n",
       "      <td>860.0</td>\n",
       "      <td>107.717442</td>\n",
       "      <td>52.723015</td>\n",
       "      <td>12.0</td>\n",
       "      <td>67.0</td>\n",
       "      <td>97.5</td>\n",
       "      <td>136.0</td>\n",
       "      <td>306.0</td>\n",
       "    </tr>\n",
       "    <tr>\n",
       "      <th>neutral</th>\n",
       "      <td>3130.0</td>\n",
       "      <td>123.921406</td>\n",
       "      <td>57.026435</td>\n",
       "      <td>9.0</td>\n",
       "      <td>80.0</td>\n",
       "      <td>115.0</td>\n",
       "      <td>159.0</td>\n",
       "      <td>315.0</td>\n",
       "    </tr>\n",
       "    <tr>\n",
       "      <th>positive</th>\n",
       "      <td>1852.0</td>\n",
       "      <td>113.717603</td>\n",
       "      <td>56.600676</td>\n",
       "      <td>10.0</td>\n",
       "      <td>68.0</td>\n",
       "      <td>103.0</td>\n",
       "      <td>147.0</td>\n",
       "      <td>303.0</td>\n",
       "    </tr>\n",
       "  </tbody>\n",
       "</table>\n",
       "</div>"
      ],
      "text/plain": [
       "            count        mean        std   min   25%    50%    75%    max\n",
       "Sentiment                                                                \n",
       "negative    860.0  107.717442  52.723015  12.0  67.0   97.5  136.0  306.0\n",
       "neutral    3130.0  123.921406  57.026435   9.0  80.0  115.0  159.0  315.0\n",
       "positive   1852.0  113.717603  56.600676  10.0  68.0  103.0  147.0  303.0"
      ]
     },
     "execution_count": 5,
     "metadata": {},
     "output_type": "execute_result"
    }
   ],
   "source": [
    "grupo=df.groupby('Sentiment')['tamanho']\n",
    "grupo.describe()"
   ]
  },
  {
   "cell_type": "markdown",
   "id": "d0f8e88b-57d2-4e78-a909-60eb30146034",
   "metadata": {},
   "source": [
    "Sentenças neutras são em média maiores e negativas são menores"
   ]
  },
  {
   "cell_type": "code",
   "execution_count": 6,
   "id": "1de3684c-ef27-47df-bb7b-b8a17d794596",
   "metadata": {},
   "outputs": [
    {
     "data": {
      "text/plain": [
       "F_onewayResult(statistic=36.95846799482342, pvalue=1.1217272573050914e-16)"
      ]
     },
     "execution_count": 6,
     "metadata": {},
     "output_type": "execute_result"
    }
   ],
   "source": [
    "grupo_lst=grupo.apply(list)\n",
    "f_oneway(grupo_lst[0],grupo_lst[1],grupo_lst[2])"
   ]
  },
  {
   "cell_type": "markdown",
   "id": "ee5b2041-e8f6-4dfb-b977-4e1854cffd05",
   "metadata": {},
   "source": [
    "O teste ANOVA one way mostra que as médias dos tamanhos são estatisticamento diferentes com um grau de confiança de 95% de confiança"
   ]
  },
  {
   "cell_type": "markdown",
   "id": "939d7d03-976b-4f02-9dc4-3e0ecaa34ce8",
   "metadata": {},
   "source": [
    "Número de tokens"
   ]
  },
  {
   "cell_type": "code",
   "execution_count": 25,
   "id": "c8068d85-4cc1-464f-b1ec-5f5d9d95c50e",
   "metadata": {},
   "outputs": [
    {
     "data": {
      "text/html": [
       "<div>\n",
       "<style scoped>\n",
       "    .dataframe tbody tr th:only-of-type {\n",
       "        vertical-align: middle;\n",
       "    }\n",
       "\n",
       "    .dataframe tbody tr th {\n",
       "        vertical-align: top;\n",
       "    }\n",
       "\n",
       "    .dataframe thead th {\n",
       "        text-align: right;\n",
       "    }\n",
       "</style>\n",
       "<table border=\"1\" class=\"dataframe\">\n",
       "  <thead>\n",
       "    <tr style=\"text-align: right;\">\n",
       "      <th></th>\n",
       "      <th>count</th>\n",
       "      <th>mean</th>\n",
       "      <th>std</th>\n",
       "      <th>min</th>\n",
       "      <th>25%</th>\n",
       "      <th>50%</th>\n",
       "      <th>75%</th>\n",
       "      <th>max</th>\n",
       "    </tr>\n",
       "    <tr>\n",
       "      <th>Sentiment</th>\n",
       "      <th></th>\n",
       "      <th></th>\n",
       "      <th></th>\n",
       "      <th></th>\n",
       "      <th></th>\n",
       "      <th></th>\n",
       "      <th></th>\n",
       "      <th></th>\n",
       "    </tr>\n",
       "  </thead>\n",
       "  <tbody>\n",
       "    <tr>\n",
       "      <th>negative</th>\n",
       "      <td>860.0</td>\n",
       "      <td>10.881395</td>\n",
       "      <td>4.987984</td>\n",
       "      <td>2.0</td>\n",
       "      <td>7.0</td>\n",
       "      <td>10.0</td>\n",
       "      <td>13.0</td>\n",
       "      <td>29.0</td>\n",
       "    </tr>\n",
       "    <tr>\n",
       "      <th>neutral</th>\n",
       "      <td>3130.0</td>\n",
       "      <td>11.707668</td>\n",
       "      <td>5.741127</td>\n",
       "      <td>0.0</td>\n",
       "      <td>7.0</td>\n",
       "      <td>11.0</td>\n",
       "      <td>15.0</td>\n",
       "      <td>41.0</td>\n",
       "    </tr>\n",
       "    <tr>\n",
       "      <th>positive</th>\n",
       "      <td>1852.0</td>\n",
       "      <td>11.526998</td>\n",
       "      <td>5.460711</td>\n",
       "      <td>1.0</td>\n",
       "      <td>7.0</td>\n",
       "      <td>10.0</td>\n",
       "      <td>15.0</td>\n",
       "      <td>32.0</td>\n",
       "    </tr>\n",
       "  </tbody>\n",
       "</table>\n",
       "</div>"
      ],
      "text/plain": [
       "            count       mean       std  min  25%   50%   75%   max\n",
       "Sentiment                                                         \n",
       "negative    860.0  10.881395  4.987984  2.0  7.0  10.0  13.0  29.0\n",
       "neutral    3130.0  11.707668  5.741127  0.0  7.0  11.0  15.0  41.0\n",
       "positive   1852.0  11.526998  5.460711  1.0  7.0  10.0  15.0  32.0"
      ]
     },
     "execution_count": 25,
     "metadata": {},
     "output_type": "execute_result"
    }
   ],
   "source": [
    "grupo=df.groupby('Sentiment')['n_tokens']\n",
    "grupo.describe()"
   ]
  },
  {
   "cell_type": "code",
   "execution_count": 7,
   "id": "d0f3b6ae-91f7-4590-ab5c-80d0505c3a6b",
   "metadata": {},
   "outputs": [
    {
     "name": "stdout",
     "output_type": "stream",
     "text": [
      " Termos mais comuns em frases positivas:\n",
      "[('million', 528), ('eur', 437), ('company', 380), ('year', 218), ('sales', 216), ('profit', 203), ('net', 197), ('said', 194), ('finnish', 181), ('period', 140)]\n"
     ]
    }
   ],
   "source": [
    "frequencia = FreqDist(all_pos_pp)\n",
    "print(f\"\"\" Termos mais comuns em frases positivas:\n",
    "{frequencia.most_common(10)}\"\"\")"
   ]
  },
  {
   "cell_type": "code",
   "execution_count": 8,
   "id": "959f6e88-83c2-43d5-b8f0-a9b3657fb397",
   "metadata": {},
   "outputs": [
    {
     "name": "stdout",
     "output_type": "stream",
     "text": [
      " Termos mais comuns em frases negativas:\n",
      "[('million', 367), ('eur', 311), ('company', 167), ('profit', 154), ('sales', 105), ('year', 100), ('net', 100), ('finnish', 91), ('operating', 89), ('quarter', 87)]\n"
     ]
    }
   ],
   "source": [
    "frequencia = FreqDist(all_neg_pp)\n",
    "print(f\"\"\" Termos mais comuns em frases negativas:\n",
    "{frequencia.most_common(10)}\"\"\")"
   ]
  },
  {
   "cell_type": "code",
   "execution_count": 9,
   "id": "6a39393d-5fd3-455c-8b46-cabb676edfc2",
   "metadata": {},
   "outputs": [
    {
     "name": "stdout",
     "output_type": "stream",
     "text": [
      " Termos mais comuns em frases neutras:\n",
      "[('million', 678), ('company', 540), ('eur', 538), ('finnish', 267), ('said', 258), ('sales', 241), ('finland', 236), ('profit', 212), ('net', 203), ('group', 199)]\n"
     ]
    }
   ],
   "source": [
    "frequencia = FreqDist(all_neut_pp)\n",
    "print(f\"\"\" Termos mais comuns em frases neutras:\n",
    "{frequencia.most_common(10)}\"\"\")"
   ]
  },
  {
   "cell_type": "markdown",
   "id": "99588ea0-e8ec-41f6-a069-9e29c4288ff9",
   "metadata": {},
   "source": [
    "Aparentemetne não há distinção entre os sentimento das frases e a frequência dos termos."
   ]
  },
  {
   "cell_type": "code",
   "execution_count": 10,
   "id": "3fb08b47-4b20-403a-bb43-08dc7b81c2f9",
   "metadata": {},
   "outputs": [],
   "source": [
    "nlp = spacy.load(\"en_core_web_sm\")\n",
    "def get_ents(texto):\n",
    "    nlp_texto=nlp(texto)\n",
    "    return(nlp_texto.ents)"
   ]
  },
  {
   "cell_type": "code",
   "execution_count": 11,
   "id": "eeaa428c-80c7-43aa-a19d-6c141b5aea9a",
   "metadata": {},
   "outputs": [
    {
     "data": {
      "image/png": "[encoded data removed]",
      "text/plain": [
       "<Figure size 432x288 with 1 Axes>"
      ]
     },
     "metadata": {
      "needs_background": "light"
     },
     "output_type": "display_data"
    }
   ],
   "source": [
    "ent_label_pos= [ent.label_ for ent in get_ents(all_pos)]\n",
    "label_counts={ent:ent_label_pos.count(ent) for ent in ent_label_pos}\n",
    "label_counts=dict(sorted(label_counts.items(), key=lambda item: item[1],reverse=True))\n",
    "plt.bar(range(5),list(label_counts.values())[:5]);\n",
    "plt.xticks(range(5),list(label_counts.keys())[:5]);"
   ]
  },
  {
   "cell_type": "code",
   "execution_count": 12,
   "id": "16ef373a-3c7c-4de4-bb86-cbe37cf1c7e8",
   "metadata": {},
   "outputs": [
    {
     "data": {
      "image/png": "[encoded data removed]",
      "text/plain": [
       "<Figure size 432x288 with 1 Axes>"
      ]
     },
     "metadata": {
      "needs_background": "light"
     },
     "output_type": "display_data"
    }
   ],
   "source": [
    "ent_label_neg= [ent.label_ for ent in get_ents(all_neg)]\n",
    "label_counts={ent:ent_label_neg.count(ent) for ent in ent_label_neg}\n",
    "label_counts=dict(sorted(label_counts.items(), key=lambda item: item[1],reverse=True))\n",
    "plt.bar(range(5),list(label_counts.values())[:5]);\n",
    "plt.xticks(range(5),list(label_counts.keys())[:5]);"
   ]
  },
  {
   "cell_type": "code",
   "execution_count": 13,
   "id": "4c1c5cd3-1223-4421-88a6-45f63aaa74c4",
   "metadata": {},
   "outputs": [
    {
     "data": {
      "image/png": "[encoded data removed]",
      "text/plain": [
       "<Figure size 432x288 with 1 Axes>"
      ]
     },
     "metadata": {
      "needs_background": "light"
     },
     "output_type": "display_data"
    }
   ],
   "source": [
    "ent_label_neut= [ent.label_ for ent in get_ents(all_neut)]\n",
    "label_counts={ent:ent_label_neut.count(ent) for ent in ent_label_neut}\n",
    "label_counts=dict(sorted(label_counts.items(), key=lambda item: item[1],reverse=True))\n",
    "plt.bar(range(5),list(label_counts.values())[:5]);\n",
    "plt.xticks(range(5),list(label_counts.keys())[:5]);"
   ]
  },
  {
   "cell_type": "markdown",
   "id": "e8557ab2-0ff5-4a9f-a82f-faac22652e22",
   "metadata": {},
   "source": [
    "As distribuições de entidades são muito parecidas entre os sentimentos. Alguns pontos notaveis é como \"data\" tem uma proporção maior quando comparadas a outras entidades em frases com sentimento negativo do que em frases com sentimento positivo. Apesar de \"dinheiro\" não estar presente no top 5 de frases neutras é a sexta mais comum."
   ]
  },
  {
   "cell_type": "markdown",
   "id": "ac896c2d-eb46-40cc-854d-a21a0fc3f515",
   "metadata": {},
   "source": [
    "# Análise de Sentimentos"
   ]
  },
  {
   "cell_type": "markdown",
   "id": "0b3e9fd9-449d-4f5f-9adb-a54805197a0c",
   "metadata": {},
   "source": [
    "## Vader"
   ]
  },
  {
   "cell_type": "code",
   "execution_count": 14,
   "id": "3876e0b5-df82-424d-8f7d-53bd906536bb",
   "metadata": {},
   "outputs": [],
   "source": [
    "analyzer = SentimentIntensityAnalyzer()\n",
    "score_dict ={'neu':'neutral','pos':'positive','neg':'negative'}\n",
    "def vader(texto,pos_thresh,neg_thresh):\n",
    "    scores= analyzer.polarity_scores(texto)\n",
    "    score = scores.pop('compound')\n",
    "    if score > pos_thresh:\n",
    "        return 'positive'\n",
    "    elif score > neg_thresh:\n",
    "        return 'neutral'\n",
    "    else:\n",
    "        return 'negative'"
   ]
  },
  {
   "cell_type": "markdown",
   "id": "6abce2e6-e66d-4362-b399-d30605045964",
   "metadata": {},
   "source": [
    "Separar corpus em treino e teste para definição dos thresholds de classificação"
   ]
  },
  {
   "cell_type": "code",
   "execution_count": 15,
   "id": "3811c257-2234-4ce6-887b-035c35c9f504",
   "metadata": {},
   "outputs": [],
   "source": [
    "X_train,X_test,Y_train,Y_test = train_test_split(df['Sentence'],df['Sentiment'],train_size=0.7,random_state=42)"
   ]
  },
  {
   "cell_type": "markdown",
   "id": "1a13753e-c4e3-4895-b78e-43774e0467a8",
   "metadata": {},
   "source": [
    "Definição negative threshold"
   ]
  },
  {
   "cell_type": "code",
   "execution_count": 16,
   "id": "6fe46980-ed5c-4fe2-ac48-4173713eeada",
   "metadata": {},
   "outputs": [
    {
     "data": {
      "text/plain": [
       "<matplotlib.legend.Legend at 0x1ee8ade6a30>"
      ]
     },
     "execution_count": 16,
     "metadata": {},
     "output_type": "execute_result"
    },
    {
     "data": {
      "image/png": "[encoded data removed]",
      "text/plain": [
       "<Figure size 432x288 with 1 Axes>"
      ]
     },
     "metadata": {
      "needs_background": "light"
     },
     "output_type": "display_data"
    }
   ],
   "source": [
    "pos_thresh=0.35\n",
    "neg_thresh_lst =[0,-0.1,-0.2,-0.3,-0.4]\n",
    "neg_recall =[]\n",
    "accuracy=[]\n",
    "for thresh in neg_thresh_lst:\n",
    "    vader_score = [vader(frase,pos_thresh,thresh) for frase in X_train]\n",
    "    report =classification_report(Y_train,vader_score,output_dict=True)\n",
    "    neg_recall.append(report['negative']['recall'])\n",
    "    accuracy.append(report['accuracy'])\n",
    "    \n",
    "plt.plot(neg_thresh_lst,neg_recall,color='blue',label='recall negativo')\n",
    "plt.plot(neg_thresh_lst,accuracy,color='green',label='acurácia')\n",
    "plt.legend()"
   ]
  },
  {
   "cell_type": "markdown",
   "id": "469171c1-c5ea-4fff-862b-f5ca7fc8c6a3",
   "metadata": {},
   "source": [
    "Avaliando o gráfico o thhreshodl ideal aparenta estar entre 0 e -0.1"
   ]
  },
  {
   "cell_type": "code",
   "execution_count": 17,
   "id": "541cfac8-fb9a-495c-bde6-cfd1145279a2",
   "metadata": {},
   "outputs": [
    {
     "data": {
      "text/plain": [
       "<matplotlib.legend.Legend at 0x1ee8d2d3910>"
      ]
     },
     "execution_count": 17,
     "metadata": {},
     "output_type": "execute_result"
    },
    {
     "data": {
      "image/png": "[encoded data removed]",
      "text/plain": [
       "<Figure size 432x288 with 1 Axes>"
      ]
     },
     "metadata": {
      "needs_background": "light"
     },
     "output_type": "display_data"
    }
   ],
   "source": [
    "pos_thresh=0.35\n",
    "neg_thresh_lst =np.linspace(0,-0.1,20)\n",
    "neg_recall =[]\n",
    "accuracy=[]\n",
    "for thresh in neg_thresh_lst:\n",
    "    vader_score = [vader(frase,pos_thresh,thresh) for frase in X_train]\n",
    "    report =classification_report(Y_train,vader_score,output_dict=True)\n",
    "    neg_recall.append(report['negative']['recall'])\n",
    "    accuracy.append(report['accuracy'])\n",
    "    \n",
    "plt.plot(neg_thresh_lst,neg_recall,color='blue',label='recall negativo')\n",
    "plt.plot(neg_thresh_lst,accuracy,color='green',label='acurácia')\n",
    "plt.legend()"
   ]
  },
  {
   "cell_type": "code",
   "execution_count": 18,
   "id": "21b88bdf-98fa-4a0f-9f76-a7fb65a1a56a",
   "metadata": {},
   "outputs": [],
   "source": [
    "neg_thresh_df=pd.DataFrame({'acuracia':accuracy,'recall_neg':neg_recall,'threshold':neg_thresh_lst})"
   ]
  },
  {
   "cell_type": "code",
   "execution_count": 19,
   "id": "07cbd3fc-916b-45cc-97ed-d15525253e7b",
   "metadata": {},
   "outputs": [
    {
     "data": {
      "text/html": [
       "<div>\n",
       "<style scoped>\n",
       "    .dataframe tbody tr th:only-of-type {\n",
       "        vertical-align: middle;\n",
       "    }\n",
       "\n",
       "    .dataframe tbody tr th {\n",
       "        vertical-align: top;\n",
       "    }\n",
       "\n",
       "    .dataframe thead th {\n",
       "        text-align: right;\n",
       "    }\n",
       "</style>\n",
       "<table border=\"1\" class=\"dataframe\">\n",
       "  <thead>\n",
       "    <tr style=\"text-align: right;\">\n",
       "      <th></th>\n",
       "      <th>acuracia</th>\n",
       "      <th>recall_neg</th>\n",
       "      <th>threshold</th>\n",
       "    </tr>\n",
       "  </thead>\n",
       "  <tbody>\n",
       "    <tr>\n",
       "      <th>0</th>\n",
       "      <td>0.337002</td>\n",
       "      <td>0.627750</td>\n",
       "      <td>0.000000</td>\n",
       "    </tr>\n",
       "    <tr>\n",
       "      <th>1</th>\n",
       "      <td>0.554659</td>\n",
       "      <td>0.341794</td>\n",
       "      <td>-0.005263</td>\n",
       "    </tr>\n",
       "    <tr>\n",
       "      <th>2</th>\n",
       "      <td>0.554659</td>\n",
       "      <td>0.341794</td>\n",
       "      <td>-0.010526</td>\n",
       "    </tr>\n",
       "    <tr>\n",
       "      <th>3</th>\n",
       "      <td>0.554659</td>\n",
       "      <td>0.341794</td>\n",
       "      <td>-0.015789</td>\n",
       "    </tr>\n",
       "    <tr>\n",
       "      <th>4</th>\n",
       "      <td>0.554903</td>\n",
       "      <td>0.341794</td>\n",
       "      <td>-0.021053</td>\n",
       "    </tr>\n",
       "    <tr>\n",
       "      <th>5</th>\n",
       "      <td>0.554903</td>\n",
       "      <td>0.331641</td>\n",
       "      <td>-0.026316</td>\n",
       "    </tr>\n",
       "    <tr>\n",
       "      <th>6</th>\n",
       "      <td>0.554903</td>\n",
       "      <td>0.331641</td>\n",
       "      <td>-0.031579</td>\n",
       "    </tr>\n",
       "    <tr>\n",
       "      <th>7</th>\n",
       "      <td>0.554903</td>\n",
       "      <td>0.331641</td>\n",
       "      <td>-0.036842</td>\n",
       "    </tr>\n",
       "    <tr>\n",
       "      <th>8</th>\n",
       "      <td>0.554903</td>\n",
       "      <td>0.331641</td>\n",
       "      <td>-0.042105</td>\n",
       "    </tr>\n",
       "    <tr>\n",
       "      <th>9</th>\n",
       "      <td>0.554903</td>\n",
       "      <td>0.331641</td>\n",
       "      <td>-0.047368</td>\n",
       "    </tr>\n",
       "    <tr>\n",
       "      <th>10</th>\n",
       "      <td>0.555148</td>\n",
       "      <td>0.331641</td>\n",
       "      <td>-0.052632</td>\n",
       "    </tr>\n",
       "    <tr>\n",
       "      <th>11</th>\n",
       "      <td>0.555148</td>\n",
       "      <td>0.331641</td>\n",
       "      <td>-0.057895</td>\n",
       "    </tr>\n",
       "    <tr>\n",
       "      <th>12</th>\n",
       "      <td>0.555148</td>\n",
       "      <td>0.331641</td>\n",
       "      <td>-0.063158</td>\n",
       "    </tr>\n",
       "    <tr>\n",
       "      <th>13</th>\n",
       "      <td>0.555148</td>\n",
       "      <td>0.331641</td>\n",
       "      <td>-0.068421</td>\n",
       "    </tr>\n",
       "    <tr>\n",
       "      <th>14</th>\n",
       "      <td>0.555148</td>\n",
       "      <td>0.331641</td>\n",
       "      <td>-0.073684</td>\n",
       "    </tr>\n",
       "    <tr>\n",
       "      <th>15</th>\n",
       "      <td>0.554903</td>\n",
       "      <td>0.328257</td>\n",
       "      <td>-0.078947</td>\n",
       "    </tr>\n",
       "    <tr>\n",
       "      <th>16</th>\n",
       "      <td>0.554903</td>\n",
       "      <td>0.328257</td>\n",
       "      <td>-0.084211</td>\n",
       "    </tr>\n",
       "    <tr>\n",
       "      <th>17</th>\n",
       "      <td>0.554903</td>\n",
       "      <td>0.328257</td>\n",
       "      <td>-0.089474</td>\n",
       "    </tr>\n",
       "    <tr>\n",
       "      <th>18</th>\n",
       "      <td>0.554903</td>\n",
       "      <td>0.328257</td>\n",
       "      <td>-0.094737</td>\n",
       "    </tr>\n",
       "    <tr>\n",
       "      <th>19</th>\n",
       "      <td>0.554903</td>\n",
       "      <td>0.328257</td>\n",
       "      <td>-0.100000</td>\n",
       "    </tr>\n",
       "  </tbody>\n",
       "</table>\n",
       "</div>"
      ],
      "text/plain": [
       "    acuracia  recall_neg  threshold\n",
       "0   0.337002    0.627750   0.000000\n",
       "1   0.554659    0.341794  -0.005263\n",
       "2   0.554659    0.341794  -0.010526\n",
       "3   0.554659    0.341794  -0.015789\n",
       "4   0.554903    0.341794  -0.021053\n",
       "5   0.554903    0.331641  -0.026316\n",
       "6   0.554903    0.331641  -0.031579\n",
       "7   0.554903    0.331641  -0.036842\n",
       "8   0.554903    0.331641  -0.042105\n",
       "9   0.554903    0.331641  -0.047368\n",
       "10  0.555148    0.331641  -0.052632\n",
       "11  0.555148    0.331641  -0.057895\n",
       "12  0.555148    0.331641  -0.063158\n",
       "13  0.555148    0.331641  -0.068421\n",
       "14  0.555148    0.331641  -0.073684\n",
       "15  0.554903    0.328257  -0.078947\n",
       "16  0.554903    0.328257  -0.084211\n",
       "17  0.554903    0.328257  -0.089474\n",
       "18  0.554903    0.328257  -0.094737\n",
       "19  0.554903    0.328257  -0.100000"
      ]
     },
     "execution_count": 19,
     "metadata": {},
     "output_type": "execute_result"
    }
   ],
   "source": [
    "neg_thresh_df"
   ]
  },
  {
   "cell_type": "markdown",
   "id": "8551bb83-cd72-405b-9726-fa20ec1efab4",
   "metadata": {},
   "source": [
    "O threshold ideal aprenta ser muito próximo de 0, utilizarei como sendo -0.021053"
   ]
  },
  {
   "cell_type": "markdown",
   "id": "324f44dd-93b2-4bd2-9f20-f7ea3ab0ba96",
   "metadata": {},
   "source": [
    "Definição threshold positivo"
   ]
  },
  {
   "cell_type": "code",
   "execution_count": 20,
   "id": "5c84e6cc-74d5-489a-bbd8-cee9d905291c",
   "metadata": {
    "tags": []
   },
   "outputs": [
    {
     "data": {
      "text/plain": [
       "<matplotlib.legend.Legend at 0x1ee8d9cbe50>"
      ]
     },
     "execution_count": 20,
     "metadata": {},
     "output_type": "execute_result"
    },
    {
     "data": {
      "image/png": "[encoded data removed]",
      "text/plain": [
       "<Figure size 432x288 with 1 Axes>"
      ]
     },
     "metadata": {
      "needs_background": "light"
     },
     "output_type": "display_data"
    }
   ],
   "source": [
    "neg_thresh=-0.021053\n",
    "pos_thresh_lst =np.linspace(0.1,0.7,10)\n",
    "pos_recall =[]\n",
    "accuracy=[]\n",
    "for thresh in pos_thresh_lst:\n",
    "    vader_score = [vader(frase,thresh,neg_thresh) for frase in X_train]\n",
    "    report =classification_report(Y_train,vader_score,output_dict=True)\n",
    "    pos_recall.append(report['positive']['recall'])\n",
    "    accuracy.append(report['accuracy'])\n",
    "    \n",
    "plt.plot(pos_thresh_lst,pos_recall,color='blue',label='recall positivo')\n",
    "plt.plot(pos_thresh_lst,accuracy,color='green',label='acurácia')\n",
    "plt.legend()"
   ]
  },
  {
   "cell_type": "code",
   "execution_count": 21,
   "id": "6e542a1a-3433-494f-8408-9199a2f5faee",
   "metadata": {},
   "outputs": [
    {
     "ename": "SyntaxError",
     "evalue": "invalid syntax (<ipython-input-21-0d0a9daea839>, line 1)",
     "output_type": "error",
     "traceback": [
      "\u001b[1;36m  File \u001b[1;32m\"<ipython-input-21-0d0a9daea839>\"\u001b[1;36m, line \u001b[1;32m1\u001b[0m\n\u001b[1;33m    Avaliando o gráfico o thhreshodl ideal aparenta estar entre 0.2 e 0.3\u001b[0m\n\u001b[1;37m              ^\u001b[0m\n\u001b[1;31mSyntaxError\u001b[0m\u001b[1;31m:\u001b[0m invalid syntax\n"
     ]
    }
   ],
   "source": [
    "Avaliando o gráfico o thhreshodl ideal aparenta estar entre 0.2 e 0.3"
   ]
  },
  {
   "cell_type": "code",
   "execution_count": null,
   "id": "66484f24-ec02-4dfa-851e-14b8130979a5",
   "metadata": {},
   "outputs": [],
   "source": [
    "neg_thresh=-0.021053\n",
    "pos_thresh_lst =np.linspace(0.2,0.3,20)\n",
    "pos_recall =[]\n",
    "accuracy=[]\n",
    "for thresh in pos_thresh_lst:\n",
    "    vader_score = [vader(frase,thresh,neg_thresh) for frase in X_train]\n",
    "    report =classification_report(Y_train,vader_score,output_dict=True)\n",
    "    pos_recall.append(report['positive']['recall'])\n",
    "    accuracy.append(report['accuracy'])\n",
    "    \n",
    "plt.plot(pos_thresh_lst,pos_recall,color='blue',label='recall positivo')\n",
    "plt.plot(pos_thresh_lst,accuracy,color='green',label='acurácia')\n",
    "plt.legend()"
   ]
  },
  {
   "cell_type": "code",
   "execution_count": null,
   "id": "0cfbc4ff-31ec-4739-a2ba-48aa0cfd2276",
   "metadata": {},
   "outputs": [],
   "source": [
    "pos_thresh_df=pd.DataFrame({'acuracia':accuracy,'recall_pos':pos_recall,'threshold':pos_thresh_lst})\n",
    "pos_thresh_df"
   ]
  },
  {
   "cell_type": "code",
   "execution_count": null,
   "id": "63a2f2a6-c6b6-41e2-9b6e-1697d6410102",
   "metadata": {},
   "outputs": [],
   "source": [
    "O threshold positivo a ser utilizado é o 0.27"
   ]
  },
  {
   "cell_type": "markdown",
   "id": "9cf397d1-0352-4f37-a43c-6a24b79119e7",
   "metadata": {},
   "source": [
    " Avaliando o teste"
   ]
  },
  {
   "cell_type": "code",
   "execution_count": null,
   "id": "23037111-b6e4-4561-af21-851fde30077f",
   "metadata": {},
   "outputs": [],
   "source": [
    "vader_test=[vader(frase,0.27,-0.021053) for frase in X_test]\n",
    "print(classification_report(Y_test,vader_test))"
   ]
  },
  {
   "cell_type": "markdown",
   "id": "5dfa26fd-520d-47cc-9e8e-07bf1ea3daf1",
   "metadata": {},
   "source": [
    "O Vader não teve um bom desempenho, têm uma acurácia de 54%, e recall baixo para todas as classes. "
   ]
  },
  {
   "cell_type": "markdown",
   "id": "1c13fb7d-ea7f-4b32-b242-e95eded11b70",
   "metadata": {},
   "source": [
    "### Vader + Regressão Logística\n"
   ]
  },
  {
   "cell_type": "markdown",
   "id": "0f574d94-93fc-422e-8120-ba941406e8a9",
   "metadata": {},
   "source": [
    "O vader não teve um desempenho muito bom na forma implementada acima, porém a análise explorátótia mosttrou que existem diferenças entre o tamnho das frases dependendo do sentimento. Irei tentat uma abordagem utilizando o valor compound do vader e o tamanho das frases para construir um modelo logísitco"
   ]
  },
  {
   "cell_type": "code",
   "execution_count": null,
   "id": "2c0a6995-50fc-4f35-96cc-ceb038ddcffc",
   "metadata": {},
   "outputs": [],
   "source": [
    "def apply_vader(texto):\n",
    "    scores = analyzer.polarity_scores(texto)\n",
    "    return scores.pop('compound')\n",
    "    \n",
    "df['vader_score'] = df['Sentence'].apply(apply_vader)\n",
    "X_train,X_test,Y_train,Y_test = train_test_split(df[['tamanho','vader_score']],df['Sentiment'],train_size=0.7,random_state=42)\n",
    "model= LogisticRegression(multi_class='multinomial')\n",
    "model.fit(X_train,Y_train)\n",
    "classificacao = model.predict(X_test)\n",
    "print(model.coef_)\n",
    "print(classification_report(Y_test,classificacao))"
   ]
  },
  {
   "cell_type": "markdown",
   "id": "e23b1ae2-3c9f-4d7b-a26a-ddab27706338",
   "metadata": {},
   "source": [
    "O modelo logísitco teve um desempenho pior do que a a aplicação do vader com com threshholds sendo incapaz de identificar frases engativas. Pode ser que o problema não seja lienarmente separável."
   ]
  },
  {
   "cell_type": "code",
   "execution_count": null,
   "id": "1c2d4804-7569-4b74-b53b-3277b6fe0ef7",
   "metadata": {},
   "outputs": [],
   "source": [
    "sns.scatterplot(df['tamanho'],df['vader_score'],hue=df['Sentiment'])"
   ]
  },
  {
   "cell_type": "markdown",
   "id": "df4a8426-20fb-4725-a386-c7657e08baed",
   "metadata": {},
   "source": [
    "Não é linearmente separável."
   ]
  },
  {
   "cell_type": "markdown",
   "id": "71b044eb-4d74-490b-b382-9e7583b1e07f",
   "metadata": {},
   "source": [
    "# BERT"
   ]
  },
  {
   "cell_type": "code",
   "execution_count": 22,
   "id": "16ddb271-952f-443a-b4f2-8661967c2ee2",
   "metadata": {},
   "outputs": [
    {
     "data": {
      "text/plain": [
       "False"
      ]
     },
     "execution_count": 22,
     "metadata": {},
     "output_type": "execute_result"
    }
   ],
   "source": [
    "torch.cuda.is_available()"
   ]
  },
  {
   "cell_type": "code",
   "execution_count": null,
   "id": "0cce5422-f196-46d6-85f7-de7fe02d8a0a",
   "metadata": {},
   "outputs": [],
   "source": []
  }
 ],
 "metadata": {
  "kernelspec": {
   "display_name": "Python 3",
   "language": "python",
   "name": "python3"
  },
  "language_info": {
   "codemirror_mode": {
    "name": "ipython",
    "version": 3
   },
   "file_extension": ".py",
   "mimetype": "text/x-python",
   "name": "python",
   "nbconvert_exporter": "python",
   "pygments_lexer": "ipython3",
   "version": "3.8.8"
  }
 },
 "nbformat": 4,
 "nbformat_minor": 5
}
